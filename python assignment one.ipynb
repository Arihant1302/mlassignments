{
 "cells": [
  {
   "cell_type": "markdown",
   "id": "0dc72670",
   "metadata": {},
   "source": [
    "Program to find all numbers divisible by 7 but not a multiple of 5 in the range of 2000 and 3200 \n"
   ]
  },
  {
   "cell_type": "code",
   "execution_count": 2,
   "id": "8a19bdfd",
   "metadata": {},
   "outputs": [
    {
     "name": "stdout",
     "output_type": "stream",
     "text": [
      "2002, 2009, 2016, 2023, 2037, 2044, 2051, 2058, 2072, 2079, 2086, 2093, 2107, 2114, 2121, 2128, 2142, 2149, 2156, 2163, 2177, 2184, 2191, 2198, 2212, 2219, 2226, 2233, 2247, 2254, 2261, 2268, 2282, 2289, 2296, 2303, 2317, 2324, 2331, 2338, 2352, 2359, 2366, 2373, 2387, 2394, 2401, 2408, 2422, 2429, 2436, 2443, 2457, 2464, 2471, 2478, 2492, 2499, 2506, 2513, 2527, 2534, 2541, 2548, 2562, 2569, 2576, 2583, 2597, 2604, 2611, 2618, 2632, 2639, 2646, 2653, 2667, 2674, 2681, 2688, 2702, 2709, 2716, 2723, 2737, 2744, 2751, 2758, 2772, 2779, 2786, 2793, 2807, 2814, 2821, 2828, 2842, 2849, 2856, 2863, 2877, 2884, 2891, 2898, 2912, 2919, 2926, 2933, 2947, 2954, 2961, 2968, 2982, 2989, 2996, 3003, 3017, 3024, 3031, 3038, 3052, 3059, 3066, 3073, 3087, 3094, 3101, 3108, 3122, 3129, 3136, 3143, 3157, 3164, 3171, 3178, 3192, 3199\n"
     ]
    }
   ],
   "source": [
    "a = list()\n",
    "for i in range(2000,3201):\n",
    "    if(i%7)==0 and i%5!=0:\n",
    "        a.append(i)\n",
    "        a.sort()\n",
    "print(str(a)[1:-1],sep=\",\")"
   ]
  },
  {
   "cell_type": "markdown",
   "id": "99fdf327",
   "metadata": {},
   "source": [
    "Write a Python program to accept the user's first and last name and then getting them printed in the the reverse order with a space between first name and last name."
   ]
  },
  {
   "cell_type": "code",
   "execution_count": 5,
   "id": "eef0f89b",
   "metadata": {},
   "outputs": [
    {
     "name": "stdout",
     "output_type": "stream",
     "text": [
      "Enter your first name: dhole\n",
      "Enter your last name: arihant\n",
      "arihant dhole\n"
     ]
    }
   ],
   "source": [
    "name = list()\n",
    "fname = input(\"Enter your first name: \")\n",
    "name.append(fname)\n",
    "lname = input(\"Enter your last name: \")\n",
    "name.append(lname)\n",
    "name.reverse()\n",
    "print(\" \".join(name))\n",
    "\n"
   ]
  },
  {
   "cell_type": "markdown",
   "id": "8659a1ba",
   "metadata": {},
   "source": [
    "program to find the volume of sphere with diameter 12cm"
   ]
  },
  {
   "cell_type": "code",
   "execution_count": 19,
   "id": "c3836d99",
   "metadata": {},
   "outputs": [
    {
     "name": "stdout",
     "output_type": "stream",
     "text": [
      "The volume of sphere is: 904.608 \n"
     ]
    }
   ],
   "source": [
    "d = 12\n",
    "pi = 3.141\n",
    "r = d/2\n",
    "volume = (4/3)*pi*(r ** 3)\n",
    "print(f\"The volume of sphere is: {volume} \")"
   ]
  },
  {
   "cell_type": "code",
   "execution_count": null,
   "id": "b2cd42e2",
   "metadata": {},
   "outputs": [],
   "source": []
  }
 ],
 "metadata": {
  "kernelspec": {
   "display_name": "Python 3",
   "language": "python",
   "name": "python3"
  },
  "language_info": {
   "codemirror_mode": {
    "name": "ipython",
    "version": 3
   },
   "file_extension": ".py",
   "mimetype": "text/x-python",
   "name": "python",
   "nbconvert_exporter": "python",
   "pygments_lexer": "ipython3",
   "version": "3.8.8"
  }
 },
 "nbformat": 4,
 "nbformat_minor": 5
}
