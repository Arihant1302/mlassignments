{
  "nbformat": 4,
  "nbformat_minor": 0,
  "metadata": {
    "colab": {
      "provenance": []
    },
    "kernelspec": {
      "name": "python3",
      "display_name": "Python 3"
    },
    "language_info": {
      "name": "python"
    }
  },
  "cells": [
    {
      "cell_type": "code",
      "execution_count": null,
      "metadata": {
        "id": "ueRY112c1Bah"
      },
      "outputs": [],
      "source": []
    },
    {
      "cell_type": "markdown",
      "source": [
        "Problem Statement 1:\n",
        "Blood glucose levels for obese patients have a mean of 100 with a standard deviation of 15.A researcher thinks that a diet high in raw cornstarch will have a positive effect on blood glucose levels. A sample of 36 patients who have tried the raw cornstarch diet have a mean glucose level of 108. Test the hypothesis that the raw cornstarch had an effect or not."
      ],
      "metadata": {
        "id": "f_lZ6byN1I66"
      }
    },
    {
      "cell_type": "code",
      "source": [
        "import scipy.stats as sts\n",
        "from scipy.stats import norm\n",
        "import math\n",
        "import numpy as np"
      ],
      "metadata": {
        "id": "bG9qnsQY1KSh"
      },
      "execution_count": 1,
      "outputs": []
    },
    {
      "cell_type": "code",
      "source": [
        "p_mean = 100\n",
        "p_std = 15\n",
        "n = 36\n",
        "sample_mean = 108\n",
        "alpha = 0.05\n",
        "\n",
        "SE = p_std/n**0.5\n",
        "print(f\"SE: {SE}\")\n",
        "Z = (sample_mean-p_mean)/SE\n",
        "print(f\"Z_score: {Z}\")"
      ],
      "metadata": {
        "colab": {
          "base_uri": "https://localhost:8080/"
        },
        "id": "aQSCXbUq1KVC",
        "outputId": "94bb86d9-303f-482a-890f-23bcedd5a5b6"
      },
      "execution_count": 2,
      "outputs": [
        {
          "output_type": "stream",
          "name": "stdout",
          "text": [
            "SE: 2.5\n",
            "Z_score: 3.2\n"
          ]
        }
      ]
    },
    {
      "cell_type": "markdown",
      "source": [
        "Problem Statement 2:\n",
        "In one state, 52% of the voters are Republicans, and 48% are Democrats. In a second state, 47% of the voters are Republicans, and 53% are Democrats. Suppose a simple random sample of 100 voters are surveyed from each state. What is the probability that the survey will show a greater percentage of Republican voters in the second state than in the first state?"
      ],
      "metadata": {
        "id": "m2viCPzU1Stm"
      }
    },
    {
      "cell_type": "code",
      "source": [
        "n1 = 100\n",
        "n2 = 100\n",
        "R1 = 0.52            #Republicans from state 1\n",
        "D1 = 0.48            #Democrats from state 1\n",
        "R2 = 0.47            #Republicans from state 2\n",
        "D2 = 0.53            #Democrats from state 2\n",
        "\n",
        "mu = R1 - R2\n",
        "print(f\"mu: {mu}\")\n",
        "std = math.sqrt(((R1 * D1 ) / n1) + ((R2 * D2) /n2))\n",
        "print(f\"std: {std}\")\n",
        "\n",
        "#This problem requires us to find the probability that p1 is less than p2. \n",
        "#This is equivalent to finding the probability that R1 - R2 < 0. \n",
        "x = 0\n",
        "#To find this probability, we need to transform the random variable (R1 - R2) into a z-score. \n",
        "#That transformation appears below.\n",
        "\n",
        "Z_R1_R2 = ( x - mu)/std\n",
        "print(f\"Z_p1_p2 : {Z_R1_R2}\")\n",
        "#From Z table we find that the probability of a z-score being -0.7082 or less is 0.24.\n",
        "\n",
        "#Therefore, the probability that the survey will show a greater percentage of Republican voters \n",
        "#in the second state than in the first state is 0.24"
      ],
      "metadata": {
        "colab": {
          "base_uri": "https://localhost:8080/"
        },
        "id": "wpfAkJFS1KXc",
        "outputId": "f28468ae-427e-40bb-b754-e1e99d02632c"
      },
      "execution_count": 3,
      "outputs": [
        {
          "output_type": "stream",
          "name": "stdout",
          "text": [
            "mu: 0.050000000000000044\n",
            "std: 0.07061869440877536\n",
            "Z_p1_p2 : -0.7080278164104213\n"
          ]
        }
      ]
    },
    {
      "cell_type": "markdown",
      "source": [
        "Problem Statement 3:\n",
        "You take the SAT and score 1100. The mean score for the SAT is 1026 and the standard deviation is 209. How well did you score on the test compared to the average test taker?"
      ],
      "metadata": {
        "id": "istpu8dh1eM3"
      }
    },
    {
      "cell_type": "code",
      "source": [
        "#The z score tells you how many standard deviations from the mean your score is\n",
        "x = 1100 #\n",
        "mu = 1026 # Population Mean\n",
        "sd = 209 #population standard deviation\n",
        "z = ( x - mu)/sd\n",
        "print(\"Z Score : \",z)\n",
        "#the above calculation shows that my score is 0.35 standard deviations above the mean\n",
        "print(\"My Score is in the range {} - {}  with a  zscore {:.2f}\".format(mu - sd,mu + sd,z))"
      ],
      "metadata": {
        "colab": {
          "base_uri": "https://localhost:8080/"
        },
        "id": "Xd0xK_dB1KZs",
        "outputId": "647f31ce-4cb5-4b92-9cb0-103396636a58"
      },
      "execution_count": 4,
      "outputs": [
        {
          "output_type": "stream",
          "name": "stdout",
          "text": [
            "Z Score :  0.35406698564593303\n",
            "My Score is in the range 817 - 1235  with a  zscore 0.35\n"
          ]
        }
      ]
    },
    {
      "cell_type": "code",
      "source": [],
      "metadata": {
        "id": "OjPGiRGP1KcF"
      },
      "execution_count": null,
      "outputs": []
    },
    {
      "cell_type": "code",
      "source": [],
      "metadata": {
        "id": "GH54K0cj1Kee"
      },
      "execution_count": null,
      "outputs": []
    },
    {
      "cell_type": "code",
      "source": [],
      "metadata": {
        "id": "Dlc8Z0L91KhG"
      },
      "execution_count": null,
      "outputs": []
    }
  ]
}