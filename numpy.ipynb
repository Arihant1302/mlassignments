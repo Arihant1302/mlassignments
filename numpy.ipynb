{
 "cells": [
  {
   "cell_type": "raw",
   "id": "ea20482e",
   "metadata": {},
   "source": [
    "# Write a function so that the columns of the output matrix are powers of the input\n",
    "vector.The order of the powers is determined by the increasing boolean argument. Specifically, when\n",
    "increasing is False, the i-th output column is the input vector raised element-wise to the power\n",
    "of N - i - 1.\n",
    "HINT: Such a matrix with a geometric progression in each row is named for Alexandre-\n",
    "Theophile Vandermonde."
   ]
  },
  {
   "cell_type": "code",
   "execution_count": 70,
   "id": "3966256c",
   "metadata": {},
   "outputs": [],
   "source": [
    "import numpy as np\n",
    "def f2(ar,n,increasing=False):\n",
    "    if increasing:\n",
    "        m = np.matrix([x**i for x in ar for i in range(n)]).reshape(ar.size,n)\n",
    "        return m\n",
    "    else:\n",
    "        m = np.matrix([x**(n-i-1) for x in ar for i in range(n)]).reshape(ar.size,n)\n",
    "    return m"
   ]
  },
  {
   "cell_type": "code",
   "execution_count": 77,
   "id": "3e825b92",
   "metadata": {},
   "outputs": [
    {
     "name": "stdout",
     "output_type": "stream",
     "text": [
      "[[ 1  1  1  1]\n",
      " [ 8  4  2  1]\n",
      " [27  9  3  1]]\n"
     ]
    }
   ],
   "source": [
    "f =np.array([1,2,3])\n",
    "ab = f2(f,4)\n",
    "print(ab)"
   ]
  },
  {
   "cell_type": "code",
   "execution_count": 79,
   "id": "242fdedd",
   "metadata": {},
   "outputs": [
    {
     "name": "stdout",
     "output_type": "stream",
     "text": [
      "[[ 1  1  1  1]\n",
      " [ 1  2  4  8]\n",
      " [ 1  3  9 27]]\n"
     ]
    }
   ],
   "source": [
    "bc = f2(f,4,True)\n",
    "print(bc)"
   ]
  },
  {
   "cell_type": "code",
   "execution_count": null,
   "id": "eaf75611",
   "metadata": {},
   "outputs": [],
   "source": [
    "Write a function to find moving average in an array over a window:\n",
    "Test it over [3, 5, 7, 2, 8, 10, 11, 65, 72, 81, 99, 100, 150] and window of 3"
   ]
  },
  {
   "cell_type": "code",
   "execution_count": 82,
   "id": "3cb1066c",
   "metadata": {},
   "outputs": [],
   "source": [
    "abc = np.array([3, 5, 7, 2, 8, 10, 11, 65, 72, 81, 99, 100, 150])\n",
    "window = 3"
   ]
  },
  {
   "cell_type": "code",
   "execution_count": 95,
   "id": "3d496af6",
   "metadata": {},
   "outputs": [
    {
     "name": "stdout",
     "output_type": "stream",
     "text": [
      "y1 = 5.00\n",
      "y2 = 4.67\n",
      "y3 = 5.67\n",
      "y4 = 6.67\n",
      "y5 = 9.67\n",
      "y6 = 28.67\n",
      "y7 = 49.33\n",
      "y8 = 72.67\n",
      "y9 = 84.00\n",
      "y10 = 93.33\n",
      "y11 = 116.33\n"
     ]
    }
   ],
   "source": [
    "def movavg(ar,j):\n",
    "    z=1\n",
    "    mavg = np.convolve(ar,np.ones(j),'valid')/j\n",
    "    for i in mavg:\n",
    "        print(\"y{0} = {1:.2f}\".format(z,i))\n",
    "        z+=1\n",
    "    \n",
    "movavg(abc,3)"
   ]
  },
  {
   "cell_type": "code",
   "execution_count": null,
   "id": "ecf4fa56",
   "metadata": {},
   "outputs": [],
   "source": []
  },
  {
   "cell_type": "code",
   "execution_count": null,
   "id": "6dcc6977",
   "metadata": {},
   "outputs": [],
   "source": []
  },
  {
   "cell_type": "code",
   "execution_count": null,
   "id": "8ff6128a",
   "metadata": {},
   "outputs": [],
   "source": []
  }
 ],
 "metadata": {
  "kernelspec": {
   "display_name": "Python 3",
   "language": "python",
   "name": "python3"
  },
  "language_info": {
   "codemirror_mode": {
    "name": "ipython",
    "version": 3
   },
   "file_extension": ".py",
   "mimetype": "text/x-python",
   "name": "python",
   "nbconvert_exporter": "python",
   "pygments_lexer": "ipython3",
   "version": "3.8.8"
  }
 },
 "nbformat": 4,
 "nbformat_minor": 5
}
