{
 "cells": [
  {
   "cell_type": "code",
   "execution_count": 1,
   "id": "6fd9d725",
   "metadata": {},
   "outputs": [],
   "source": [
    "##Python assignment 4"
   ]
  },
  {
   "cell_type": "code",
   "execution_count": null,
   "id": "5a896fea",
   "metadata": {},
   "outputs": [],
   "source": [
    "##Area for triangle"
   ]
  },
  {
   "cell_type": "code",
   "execution_count": 39,
   "id": "8127c853",
   "metadata": {},
   "outputs": [],
   "source": [
    "class area:\n",
    "    def __init__(self):\n",
    "        self.a = float(input())\n",
    "        self.b = float(input())\n",
    "        self.c = float(input())\n",
    "class triangle(area):            \n",
    "    def triangle(self):\n",
    "        s=(self.a+self.b+self.c)/2\n",
    "        tarea = (s*(s-self.a)*(s-self.b)*(s-self.c)) ** 0.5\n",
    "        return tarea\n"
   ]
  },
  {
   "cell_type": "code",
   "execution_count": 47,
   "id": "d3d62230",
   "metadata": {},
   "outputs": [
    {
     "name": "stdout",
     "output_type": "stream",
     "text": [
      "2\n",
      "3\n",
      "4\n"
     ]
    },
    {
     "data": {
      "text/plain": [
       "2.9047375096555625"
      ]
     },
     "execution_count": 47,
     "metadata": {},
     "output_type": "execute_result"
    }
   ],
   "source": [
    "a = triangle()\n",
    "a.triangle()\n",
    "  "
   ]
  },
  {
   "cell_type": "code",
   "execution_count": 15,
   "id": "06413d07",
   "metadata": {},
   "outputs": [],
   "source": [
    "def filter_long_words(z, n):\n",
    "    l = list()\n",
    "    for i in z:\n",
    "        if len(i) > n:\n",
    "            l.append(i)\n",
    "    print(l)"
   ]
  },
  {
   "cell_type": "code",
   "execution_count": 16,
   "id": "8fafb5da",
   "metadata": {},
   "outputs": [
    {
     "name": "stdout",
     "output_type": "stream",
     "text": [
      "['namo', 'bin', 'haow', 'nihao']\n"
     ]
    }
   ],
   "source": [
    "c = [\"namo\",\"bin\",\"haow\",\"nihao\"]\n",
    "filter_long_words(c,2)"
   ]
  },
  {
   "cell_type": "code",
   "execution_count": 17,
   "id": "b062056e",
   "metadata": {},
   "outputs": [],
   "source": [
    "#program that maps list of words to their length"
   ]
  },
  {
   "cell_type": "code",
   "execution_count": 32,
   "id": "9e173406",
   "metadata": {},
   "outputs": [
    {
     "data": {
      "text/plain": [
       "[3, 6, 7]"
      ]
     },
     "execution_count": 32,
     "metadata": {},
     "output_type": "execute_result"
    }
   ],
   "source": [
    "def ston(list1):\n",
    "    return len(list1)\n",
    "l1 = ['ata','sdgfad','adgfarg'] \n",
    "result = map(ston,l1)\n",
    "list(result)"
   ]
  },
  {
   "cell_type": "code",
   "execution_count": 47,
   "id": "c30efca0",
   "metadata": {},
   "outputs": [],
   "source": [
    "def isitvowel(char):\n",
    "    vowel = [\"a\",\"e\",\"i\",\"o\",\"u\",\"A\",\"E\",\"I\",\"O\",\"U\"]\n",
    "    if char in vowel:\n",
    "        return True\n",
    "    else:\n",
    "        return False"
   ]
  },
  {
   "cell_type": "code",
   "execution_count": 48,
   "id": "0ffde173",
   "metadata": {},
   "outputs": [
    {
     "name": "stdout",
     "output_type": "stream",
     "text": [
      "e\n"
     ]
    },
    {
     "data": {
      "text/plain": [
       "True"
      ]
     },
     "execution_count": 48,
     "metadata": {},
     "output_type": "execute_result"
    }
   ],
   "source": [
    "isitvowel(input())"
   ]
  },
  {
   "cell_type": "code",
   "execution_count": null,
   "id": "0a6d7ae7",
   "metadata": {},
   "outputs": [],
   "source": []
  },
  {
   "cell_type": "code",
   "execution_count": null,
   "id": "93e12f3e",
   "metadata": {},
   "outputs": [],
   "source": []
  },
  {
   "cell_type": "code",
   "execution_count": null,
   "id": "631394f9",
   "metadata": {},
   "outputs": [],
   "source": []
  },
  {
   "cell_type": "code",
   "execution_count": null,
   "id": "634080d0",
   "metadata": {},
   "outputs": [],
   "source": []
  },
  {
   "cell_type": "code",
   "execution_count": null,
   "id": "4e1ef54b",
   "metadata": {},
   "outputs": [],
   "source": []
  },
  {
   "cell_type": "code",
   "execution_count": null,
   "id": "19c96e6b",
   "metadata": {},
   "outputs": [],
   "source": []
  }
 ],
 "metadata": {
  "kernelspec": {
   "display_name": "Python 3",
   "language": "python",
   "name": "python3"
  },
  "language_info": {
   "codemirror_mode": {
    "name": "ipython",
    "version": 3
   },
   "file_extension": ".py",
   "mimetype": "text/x-python",
   "name": "python",
   "nbconvert_exporter": "python",
   "pygments_lexer": "ipython3",
   "version": "3.8.8"
  }
 },
 "nbformat": 4,
 "nbformat_minor": 5
}
