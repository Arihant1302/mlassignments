{
 "cells": [
  {
   "cell_type": "markdown",
   "id": "7656f799",
   "metadata": {},
   "source": [
    "create myreduce()\n"
   ]
  },
  {
   "cell_type": "code",
   "execution_count": 2,
   "id": "68ef5ab9",
   "metadata": {},
   "outputs": [],
   "source": [
    "def myreduce(fun,val):\n",
    "    result = val[0]\n",
    "    for i in val[1:]:\n",
    "        result = fun(result,i)\n",
    "    return result\n",
    "\n",
    "    "
   ]
  },
  {
   "cell_type": "code",
   "execution_count": 11,
   "id": "fdc27245",
   "metadata": {},
   "outputs": [],
   "source": [
    "def fun(a,b):\n",
    "    return a+b\n",
    "    "
   ]
  },
  {
   "cell_type": "code",
   "execution_count": 8,
   "id": "06b54d69",
   "metadata": {},
   "outputs": [
    {
     "name": "stdout",
     "output_type": "stream",
     "text": [
      "21\n"
     ]
    }
   ],
   "source": [
    "l=[1,2,3,4,5,6]\n",
    "print(myreduce(fun,l))"
   ]
  },
  {
   "cell_type": "markdown",
   "id": "4756261d",
   "metadata": {},
   "source": [
    "create myfilter()"
   ]
  },
  {
   "cell_type": "code",
   "execution_count": 13,
   "id": "bbad68a5",
   "metadata": {},
   "outputs": [],
   "source": [
    "def myfilter(func,values):\n",
    "    l = list()\n",
    "    for i in values:\n",
    "        if func(i):\n",
    "            l.append(i)\n",
    "    return l"
   ]
  },
  {
   "cell_type": "code",
   "execution_count": 23,
   "id": "85dd168a",
   "metadata": {},
   "outputs": [],
   "source": [
    "def test(x):\n",
    "    if x > 4:\n",
    "        return True\n",
    "    else:\n",
    "        return False"
   ]
  },
  {
   "cell_type": "code",
   "execution_count": 20,
   "id": "351f3fb8",
   "metadata": {},
   "outputs": [
    {
     "data": {
      "text/plain": [
       "[1, 2, 3, 4, 5, 6]"
      ]
     },
     "execution_count": 20,
     "metadata": {},
     "output_type": "execute_result"
    }
   ],
   "source": [
    "l"
   ]
  },
  {
   "cell_type": "code",
   "execution_count": 25,
   "id": "c1d3185a",
   "metadata": {},
   "outputs": [
    {
     "data": {
      "text/plain": [
       "[5, 6]"
      ]
     },
     "execution_count": 25,
     "metadata": {},
     "output_type": "execute_result"
    }
   ],
   "source": [
    "myfilter(test,l)"
   ]
  },
  {
   "cell_type": "markdown",
   "id": "9cbc6362",
   "metadata": {},
   "source": [
    "list comprehension"
   ]
  },
  {
   "cell_type": "code",
   "execution_count": 26,
   "id": "19e117d0",
   "metadata": {},
   "outputs": [],
   "source": [
    "##1. ['x', 'xx', 'xxx', 'xxxx', 'y', 'yy', 'yyy', 'yyyy', 'z', 'zz', 'zzz', 'zzzz']"
   ]
  },
  {
   "cell_type": "code",
   "execution_count": 27,
   "id": "5fcaafc7",
   "metadata": {},
   "outputs": [],
   "source": [
    "l =['x','y','z']\n"
   ]
  },
  {
   "cell_type": "code",
   "execution_count": 31,
   "id": "96d7a7a0",
   "metadata": {},
   "outputs": [
    {
     "data": {
      "text/plain": [
       "['x', 'xx', 'xxx', 'xxxx', 'y', 'yy', 'yyy', 'yyyy', 'z', 'zz', 'zzz', 'zzzz']"
      ]
     },
     "execution_count": 31,
     "metadata": {},
     "output_type": "execute_result"
    }
   ],
   "source": [
    "[i*j for i in l for j in range(1,5)]"
   ]
  },
  {
   "cell_type": "code",
   "execution_count": 32,
   "id": "88f938a0",
   "metadata": {},
   "outputs": [],
   "source": [
    "##2.['x', 'y', 'z', 'xx', 'yy', 'zz', 'xxx', 'yyy', 'zzz', 'xxxx', 'yyyy', 'zzzz']"
   ]
  },
  {
   "cell_type": "code",
   "execution_count": 38,
   "id": "c2d6fded",
   "metadata": {},
   "outputs": [
    {
     "data": {
      "text/plain": [
       "['x', 'y', 'z', 'xx', 'yy', 'zz', 'xxx', 'yyy', 'zzz', 'xxxx', 'yyyy', 'zzzz']"
      ]
     },
     "execution_count": 38,
     "metadata": {},
     "output_type": "execute_result"
    }
   ],
   "source": [
    "[i*j for j in range(1,5) for i in l]"
   ]
  },
  {
   "cell_type": "code",
   "execution_count": 39,
   "id": "d14526cf",
   "metadata": {},
   "outputs": [],
   "source": [
    "##3. [[2], [3], [4], [3], [4], [5], [4], [5], [6]]"
   ]
  },
  {
   "cell_type": "code",
   "execution_count": 45,
   "id": "f03f0c96",
   "metadata": {},
   "outputs": [
    {
     "data": {
      "text/plain": [
       "[[2], [3], [4], [3], [4], [5], [4], [5], [6]]"
      ]
     },
     "execution_count": 45,
     "metadata": {},
     "output_type": "execute_result"
    }
   ],
   "source": [
    "[[x+y] for y in range(0,3) for x in range(2,5) ]"
   ]
  },
  {
   "cell_type": "code",
   "execution_count": null,
   "id": "b0db98b6",
   "metadata": {},
   "outputs": [],
   "source": [
    "##4.[[2, 3, 4, 5], [3, 4, 5, 6], [4, 5, 6, 7], [5, 6, 7, 8]"
   ]
  },
  {
   "cell_type": "code",
   "execution_count": 55,
   "id": "495c0258",
   "metadata": {},
   "outputs": [
    {
     "data": {
      "text/plain": [
       "[[2, 3, 4, 5], [3, 4, 5, 6], [4, 5, 6, 7], [5, 6, 7, 8]]"
      ]
     },
     "execution_count": 55,
     "metadata": {},
     "output_type": "execute_result"
    }
   ],
   "source": [
    "[[a+b for b in range(0,4)]for a in range(2,6)]"
   ]
  },
  {
   "cell_type": "code",
   "execution_count": null,
   "id": "6e57bc32",
   "metadata": {},
   "outputs": [],
   "source": [
    "##5.[(1, 1), (2, 1), (3, 1), (1, 2), (2, 2), (3, 2), (1, 3), (2, 3), (3, 3)]"
   ]
  },
  {
   "cell_type": "code",
   "execution_count": 57,
   "id": "50b00fff",
   "metadata": {},
   "outputs": [
    {
     "data": {
      "text/plain": [
       "[(1, 1), (2, 1), (3, 1), (1, 2), (2, 2), (3, 2), (1, 3), (2, 3), (3, 3)]"
      ]
     },
     "execution_count": 57,
     "metadata": {},
     "output_type": "execute_result"
    }
   ],
   "source": [
    "[(a,b) for b in range(1,4) for a in range(1,4)]"
   ]
  },
  {
   "cell_type": "code",
   "execution_count": null,
   "id": "3c4b9298",
   "metadata": {},
   "outputs": [],
   "source": []
  }
 ],
 "metadata": {
  "kernelspec": {
   "display_name": "Python 3",
   "language": "python",
   "name": "python3"
  },
  "language_info": {
   "codemirror_mode": {
    "name": "ipython",
    "version": 3
   },
   "file_extension": ".py",
   "mimetype": "text/x-python",
   "name": "python",
   "nbconvert_exporter": "python",
   "pygments_lexer": "ipython3",
   "version": "3.8.8"
  }
 },
 "nbformat": 4,
 "nbformat_minor": 5
}
